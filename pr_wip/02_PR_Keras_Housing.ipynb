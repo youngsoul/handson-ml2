{
 "cells": [
  {
   "cell_type": "markdown",
   "metadata": {},
   "source": [
    "# Same as the Scikit-Learn version but with Keras"
   ]
  },
  {
   "cell_type": "code",
   "execution_count": 118,
   "metadata": {
    "ExecuteTime": {
     "end_time": "2020-04-25T17:12:30.896101Z",
     "start_time": "2020-04-25T17:12:30.890847Z"
    }
   },
   "outputs": [],
   "source": [
    "import pandas as pd\n",
    "import os\n",
    "from sklearn.model_selection import train_test_split\n",
    "from sklearn.impute import SimpleImputer\n",
    "from sklearn.base import BaseEstimator, TransformerMixin\n",
    "from sklearn.pipeline import Pipeline\n",
    "from sklearn.preprocessing import StandardScaler\n",
    "from sklearn.compose import ColumnTransformer\n",
    "from sklearn.preprocessing import OneHotEncoder\n",
    "import numpy as np\n",
    "import matplotlib.pyplot as plt\n",
    "from tensorflow.keras.models import Sequential\n",
    "from tensorflow.keras.layers import Dense\n",
    "from sklearn.metrics import mean_squared_error\n",
    "\n",
    "\n",
    "\n",
    "HOUSING_PATH = os.path.join(\"..\", \"datasets\", \"housing\")\n"
   ]
  },
  {
   "cell_type": "code",
   "execution_count": 119,
   "metadata": {
    "ExecuteTime": {
     "end_time": "2020-04-25T17:12:30.901061Z",
     "start_time": "2020-04-25T17:12:30.897956Z"
    }
   },
   "outputs": [],
   "source": [
    "\n",
    "def load_housing_data(housing_path=HOUSING_PATH):\n",
    "    csv_path = os.path.join(housing_path, \"housing.csv\")\n",
    "    return pd.read_csv(csv_path)"
   ]
  },
  {
   "cell_type": "code",
   "execution_count": 120,
   "metadata": {
    "ExecuteTime": {
     "end_time": "2020-04-25T17:12:30.934692Z",
     "start_time": "2020-04-25T17:12:30.903138Z"
    }
   },
   "outputs": [
    {
     "data": {
      "text/html": [
       "<div>\n",
       "<style scoped>\n",
       "    .dataframe tbody tr th:only-of-type {\n",
       "        vertical-align: middle;\n",
       "    }\n",
       "\n",
       "    .dataframe tbody tr th {\n",
       "        vertical-align: top;\n",
       "    }\n",
       "\n",
       "    .dataframe thead th {\n",
       "        text-align: right;\n",
       "    }\n",
       "</style>\n",
       "<table border=\"1\" class=\"dataframe\">\n",
       "  <thead>\n",
       "    <tr style=\"text-align: right;\">\n",
       "      <th></th>\n",
       "      <th>longitude</th>\n",
       "      <th>latitude</th>\n",
       "      <th>housing_median_age</th>\n",
       "      <th>total_rooms</th>\n",
       "      <th>total_bedrooms</th>\n",
       "      <th>population</th>\n",
       "      <th>households</th>\n",
       "      <th>median_income</th>\n",
       "      <th>median_house_value</th>\n",
       "      <th>ocean_proximity</th>\n",
       "    </tr>\n",
       "  </thead>\n",
       "  <tbody>\n",
       "    <tr>\n",
       "      <th>0</th>\n",
       "      <td>-122.23</td>\n",
       "      <td>37.88</td>\n",
       "      <td>41.0</td>\n",
       "      <td>880.0</td>\n",
       "      <td>129.0</td>\n",
       "      <td>322.0</td>\n",
       "      <td>126.0</td>\n",
       "      <td>8.3252</td>\n",
       "      <td>452600.0</td>\n",
       "      <td>NEAR BAY</td>\n",
       "    </tr>\n",
       "    <tr>\n",
       "      <th>1</th>\n",
       "      <td>-122.22</td>\n",
       "      <td>37.86</td>\n",
       "      <td>21.0</td>\n",
       "      <td>7099.0</td>\n",
       "      <td>1106.0</td>\n",
       "      <td>2401.0</td>\n",
       "      <td>1138.0</td>\n",
       "      <td>8.3014</td>\n",
       "      <td>358500.0</td>\n",
       "      <td>NEAR BAY</td>\n",
       "    </tr>\n",
       "    <tr>\n",
       "      <th>2</th>\n",
       "      <td>-122.24</td>\n",
       "      <td>37.85</td>\n",
       "      <td>52.0</td>\n",
       "      <td>1467.0</td>\n",
       "      <td>190.0</td>\n",
       "      <td>496.0</td>\n",
       "      <td>177.0</td>\n",
       "      <td>7.2574</td>\n",
       "      <td>352100.0</td>\n",
       "      <td>NEAR BAY</td>\n",
       "    </tr>\n",
       "    <tr>\n",
       "      <th>3</th>\n",
       "      <td>-122.25</td>\n",
       "      <td>37.85</td>\n",
       "      <td>52.0</td>\n",
       "      <td>1274.0</td>\n",
       "      <td>235.0</td>\n",
       "      <td>558.0</td>\n",
       "      <td>219.0</td>\n",
       "      <td>5.6431</td>\n",
       "      <td>341300.0</td>\n",
       "      <td>NEAR BAY</td>\n",
       "    </tr>\n",
       "    <tr>\n",
       "      <th>4</th>\n",
       "      <td>-122.25</td>\n",
       "      <td>37.85</td>\n",
       "      <td>52.0</td>\n",
       "      <td>1627.0</td>\n",
       "      <td>280.0</td>\n",
       "      <td>565.0</td>\n",
       "      <td>259.0</td>\n",
       "      <td>3.8462</td>\n",
       "      <td>342200.0</td>\n",
       "      <td>NEAR BAY</td>\n",
       "    </tr>\n",
       "  </tbody>\n",
       "</table>\n",
       "</div>"
      ],
      "text/plain": [
       "   longitude  latitude  housing_median_age  total_rooms  total_bedrooms  \\\n",
       "0    -122.23     37.88                41.0        880.0           129.0   \n",
       "1    -122.22     37.86                21.0       7099.0          1106.0   \n",
       "2    -122.24     37.85                52.0       1467.0           190.0   \n",
       "3    -122.25     37.85                52.0       1274.0           235.0   \n",
       "4    -122.25     37.85                52.0       1627.0           280.0   \n",
       "\n",
       "   population  households  median_income  median_house_value ocean_proximity  \n",
       "0       322.0       126.0         8.3252            452600.0        NEAR BAY  \n",
       "1      2401.0      1138.0         8.3014            358500.0        NEAR BAY  \n",
       "2       496.0       177.0         7.2574            352100.0        NEAR BAY  \n",
       "3       558.0       219.0         5.6431            341300.0        NEAR BAY  \n",
       "4       565.0       259.0         3.8462            342200.0        NEAR BAY  "
      ]
     },
     "execution_count": 120,
     "metadata": {},
     "output_type": "execute_result"
    }
   ],
   "source": [
    "housing = load_housing_data()\n",
    "housing.head()"
   ]
  },
  {
   "cell_type": "code",
   "execution_count": 121,
   "metadata": {
    "ExecuteTime": {
     "end_time": "2020-04-25T17:12:30.939871Z",
     "start_time": "2020-04-25T17:12:30.936216Z"
    }
   },
   "outputs": [
    {
     "data": {
      "text/plain": [
       "(20640, 10)"
      ]
     },
     "execution_count": 121,
     "metadata": {},
     "output_type": "execute_result"
    }
   ],
   "source": [
    "housing.shape"
   ]
  },
  {
   "cell_type": "code",
   "execution_count": 122,
   "metadata": {
    "ExecuteTime": {
     "end_time": "2020-04-25T17:12:30.946925Z",
     "start_time": "2020-04-25T17:12:30.941388Z"
    }
   },
   "outputs": [
    {
     "data": {
      "text/plain": [
       "longitude               0\n",
       "latitude                0\n",
       "housing_median_age      0\n",
       "total_rooms             0\n",
       "total_bedrooms        207\n",
       "population              0\n",
       "households              0\n",
       "median_income           0\n",
       "median_house_value      0\n",
       "ocean_proximity         0\n",
       "dtype: int64"
      ]
     },
     "execution_count": 122,
     "metadata": {},
     "output_type": "execute_result"
    }
   ],
   "source": [
    "housing.isna().sum()"
   ]
  },
  {
   "cell_type": "code",
   "execution_count": 123,
   "metadata": {
    "ExecuteTime": {
     "end_time": "2020-04-25T17:12:30.954889Z",
     "start_time": "2020-04-25T17:12:30.948130Z"
    }
   },
   "outputs": [
    {
     "name": "stdout",
     "output_type": "stream",
     "text": [
      "<class 'pandas.core.frame.DataFrame'>\n",
      "RangeIndex: 20640 entries, 0 to 20639\n",
      "Data columns (total 10 columns):\n",
      "longitude             20640 non-null float64\n",
      "latitude              20640 non-null float64\n",
      "housing_median_age    20640 non-null float64\n",
      "total_rooms           20640 non-null float64\n",
      "total_bedrooms        20433 non-null float64\n",
      "population            20640 non-null float64\n",
      "households            20640 non-null float64\n",
      "median_income         20640 non-null float64\n",
      "median_house_value    20640 non-null float64\n",
      "ocean_proximity       20640 non-null object\n",
      "dtypes: float64(9), object(1)\n",
      "memory usage: 1.6+ MB\n"
     ]
    }
   ],
   "source": [
    "housing.info()"
   ]
  },
  {
   "cell_type": "code",
   "execution_count": null,
   "metadata": {},
   "outputs": [],
   "source": []
  },
  {
   "cell_type": "code",
   "execution_count": 124,
   "metadata": {
    "ExecuteTime": {
     "end_time": "2020-04-25T17:12:30.964305Z",
     "start_time": "2020-04-25T17:12:30.956116Z"
    }
   },
   "outputs": [],
   "source": [
    "y = housing['median_house_value']\n",
    "X = housing.drop(columns=['median_house_value'])\n",
    "X_train, X_test, y_train, y_test = train_test_split(X, y, test_size=0.2)"
   ]
  },
  {
   "cell_type": "code",
   "execution_count": 125,
   "metadata": {
    "ExecuteTime": {
     "end_time": "2020-04-25T17:12:30.969561Z",
     "start_time": "2020-04-25T17:12:30.966584Z"
    }
   },
   "outputs": [
    {
     "data": {
      "text/plain": [
       "(16512, 9)"
      ]
     },
     "execution_count": 125,
     "metadata": {},
     "output_type": "execute_result"
    }
   ],
   "source": [
    "X_train.shape"
   ]
  },
  {
   "cell_type": "code",
   "execution_count": 126,
   "metadata": {
    "ExecuteTime": {
     "end_time": "2020-04-25T17:12:30.974201Z",
     "start_time": "2020-04-25T17:12:30.971136Z"
    }
   },
   "outputs": [
    {
     "data": {
      "text/plain": [
       "(4128, 9)"
      ]
     },
     "execution_count": 126,
     "metadata": {},
     "output_type": "execute_result"
    }
   ],
   "source": [
    "X_test.shape"
   ]
  },
  {
   "cell_type": "code",
   "execution_count": null,
   "metadata": {},
   "outputs": [],
   "source": []
  },
  {
   "cell_type": "code",
   "execution_count": 127,
   "metadata": {
    "ExecuteTime": {
     "end_time": "2020-04-25T17:12:30.980952Z",
     "start_time": "2020-04-25T17:12:30.975461Z"
    }
   },
   "outputs": [],
   "source": [
    "\n",
    "# column index\n",
    "rooms_ix, bedrooms_ix, population_ix, households_ix = 3, 4, 5, 6\n",
    "\n",
    "class CombinedAttributesAdder(BaseEstimator, TransformerMixin):\n",
    "    def __init__(self, add_bedrooms_per_room = True): # no *args or **kargs\n",
    "        self.add_bedrooms_per_room = add_bedrooms_per_room\n",
    "    def fit(self, X, y=None):\n",
    "        return self  # nothing else to do\n",
    "    def transform(self, X):\n",
    "        rooms_per_household = X[:, rooms_ix] / X[:, households_ix]\n",
    "        population_per_household = X[:, population_ix] / X[:, households_ix]\n",
    "        if self.add_bedrooms_per_room:\n",
    "            bedrooms_per_room = X[:, bedrooms_ix] / X[:, rooms_ix]\n",
    "            return np.c_[X, rooms_per_household, population_per_household,\n",
    "                         bedrooms_per_room]\n",
    "        else:\n",
    "            return np.c_[X, rooms_per_household, population_per_household]\n",
    "\n"
   ]
  },
  {
   "cell_type": "code",
   "execution_count": 128,
   "metadata": {
    "ExecuteTime": {
     "end_time": "2020-04-25T17:12:30.986017Z",
     "start_time": "2020-04-25T17:12:30.982312Z"
    }
   },
   "outputs": [
    {
     "data": {
      "text/plain": [
       "Index(['longitude', 'latitude', 'housing_median_age', 'total_rooms',\n",
       "       'total_bedrooms', 'population', 'households', 'median_income',\n",
       "       'ocean_proximity'],\n",
       "      dtype='object')"
      ]
     },
     "execution_count": 128,
     "metadata": {},
     "output_type": "execute_result"
    }
   ],
   "source": [
    "X_train.columns"
   ]
  },
  {
   "cell_type": "code",
   "execution_count": 129,
   "metadata": {
    "ExecuteTime": {
     "end_time": "2020-04-25T17:12:30.990030Z",
     "start_time": "2020-04-25T17:12:30.987417Z"
    }
   },
   "outputs": [],
   "source": [
    "num_pipeline = Pipeline([\n",
    "        ('imputer', SimpleImputer(strategy=\"median\")),\n",
    "#         ('attribs_adder', CombinedAttributesAdder()),\n",
    "        ('std_scaler', StandardScaler()),\n",
    "    ])\n",
    "\n"
   ]
  },
  {
   "cell_type": "code",
   "execution_count": 130,
   "metadata": {
    "ExecuteTime": {
     "end_time": "2020-04-25T17:12:30.994729Z",
     "start_time": "2020-04-25T17:12:30.991476Z"
    }
   },
   "outputs": [
    {
     "data": {
      "text/plain": [
       "['longitude',\n",
       " 'latitude',\n",
       " 'housing_median_age',\n",
       " 'total_rooms',\n",
       " 'total_bedrooms',\n",
       " 'population',\n",
       " 'households',\n",
       " 'median_income']"
      ]
     },
     "execution_count": 130,
     "metadata": {},
     "output_type": "execute_result"
    }
   ],
   "source": [
    "list(X_train.columns)[:-1]"
   ]
  },
  {
   "cell_type": "code",
   "execution_count": null,
   "metadata": {},
   "outputs": [],
   "source": []
  },
  {
   "cell_type": "code",
   "execution_count": 131,
   "metadata": {
    "ExecuteTime": {
     "end_time": "2020-04-25T17:12:31.024753Z",
     "start_time": "2020-04-25T17:12:30.996000Z"
    }
   },
   "outputs": [],
   "source": [
    "num_attribs = list(X_train.columns)[:-1]\n",
    "cat_attribs = [\"ocean_proximity\"]\n",
    "\n",
    "full_pipeline = ColumnTransformer([\n",
    "        (\"num\", num_pipeline, num_attribs),\n",
    "        (\"cat\", OneHotEncoder(), cat_attribs),\n",
    "    ])\n",
    "\n",
    "housing_prepared = full_pipeline.fit_transform(X_train)"
   ]
  },
  {
   "cell_type": "code",
   "execution_count": 132,
   "metadata": {
    "ExecuteTime": {
     "end_time": "2020-04-25T17:12:31.029847Z",
     "start_time": "2020-04-25T17:12:31.026149Z"
    }
   },
   "outputs": [
    {
     "data": {
      "text/plain": [
       "array([[ 0.63622458, -0.74716147,  1.69573748, ...,  0.        ,\n",
       "         0.        ,  0.        ],\n",
       "       [ 0.79097277, -0.88288883, -0.52938104, ...,  0.        ,\n",
       "         0.        ,  0.        ],\n",
       "       [-1.10594049,  0.81604329, -0.52938104, ...,  0.        ,\n",
       "         0.        ,  0.        ],\n",
       "       ...,\n",
       "       [-1.11592425,  1.10153877, -0.84725511, ...,  0.        ,\n",
       "         0.        ,  0.        ],\n",
       "       [-0.89128978,  1.11089927, -1.00619215, ...,  0.        ,\n",
       "         0.        ,  0.        ],\n",
       "       [ 0.26682568, -0.1059667 , -0.68831807, ...,  0.        ,\n",
       "         0.        ,  0.        ]])"
      ]
     },
     "execution_count": 132,
     "metadata": {},
     "output_type": "execute_result"
    }
   ],
   "source": [
    "housing_prepared"
   ]
  },
  {
   "cell_type": "code",
   "execution_count": 133,
   "metadata": {
    "ExecuteTime": {
     "end_time": "2020-04-25T17:12:31.034332Z",
     "start_time": "2020-04-25T17:12:31.031222Z"
    }
   },
   "outputs": [
    {
     "data": {
      "text/plain": [
       "(16512, 16)"
      ]
     },
     "execution_count": 133,
     "metadata": {},
     "output_type": "execute_result"
    }
   ],
   "source": [
    "housing_prepared.shape"
   ]
  },
  {
   "cell_type": "code",
   "execution_count": 134,
   "metadata": {
    "ExecuteTime": {
     "end_time": "2020-04-25T17:12:31.041404Z",
     "start_time": "2020-04-25T17:12:31.035611Z"
    }
   },
   "outputs": [],
   "source": [
    "def build_model(input_dim):\n",
    "    model = Sequential()\n",
    "    model.add(Dense(32, input_dim=input_dim, activation='relu'))\n",
    "    model.add(Dense(32, activation='relu'))\n",
    "    model.add(Dense(32, activation='relu'))\n",
    "    model.add(Dense(16, activation='relu'))\n",
    "    model.add(Dense(16, activation='relu'))\n",
    "    model.add(Dense(16, activation='relu'))\n",
    "    model.add(Dense(16, activation='relu'))\n",
    "    model.add(Dense(8, activation='relu'))\n",
    "    model.add(Dense(8, activation='relu'))\n",
    "    model.add(Dense(1, activation='linear'))\n",
    "    model.compile(optimizer='adam', loss='mean_squared_error')\n",
    "\n",
    "    return model"
   ]
  },
  {
   "cell_type": "code",
   "execution_count": 135,
   "metadata": {
    "ExecuteTime": {
     "end_time": "2020-04-25T17:12:31.338749Z",
     "start_time": "2020-04-25T17:12:31.042792Z"
    }
   },
   "outputs": [],
   "source": [
    "model = build_model(housing_prepared.shape[1])"
   ]
  },
  {
   "cell_type": "code",
   "execution_count": 136,
   "metadata": {
    "ExecuteTime": {
     "end_time": "2020-04-25T17:14:17.268516Z",
     "start_time": "2020-04-25T17:12:31.340059Z"
    }
   },
   "outputs": [
    {
     "name": "stdout",
     "output_type": "stream",
     "text": [
      "Train on 13209 samples, validate on 3303 samples\n",
      "Epoch 1/120\n",
      "13209/13209 [==============================] - 1s 102us/sample - loss: 23372985708.0766 - val_loss: 6221154374.7139\n",
      "Epoch 2/120\n",
      "13209/13209 [==============================] - 1s 62us/sample - loss: 5391660209.1108 - val_loss: 4983866970.7442\n",
      "Epoch 3/120\n",
      "13209/13209 [==============================] - 1s 63us/sample - loss: 4707581278.7330 - val_loss: 4706700678.7623\n",
      "Epoch 4/120\n",
      "13209/13209 [==============================] - 1s 63us/sample - loss: 4469144846.3320 - val_loss: 4560827451.2140\n",
      "Epoch 5/120\n",
      "13209/13209 [==============================] - 1s 61us/sample - loss: 4345626748.1965 - val_loss: 4485481997.6797\n",
      "Epoch 6/120\n",
      "13209/13209 [==============================] - 1s 61us/sample - loss: 4281966382.0195 - val_loss: 4413259314.5916\n",
      "Epoch 7/120\n",
      "13209/13209 [==============================] - 1s 61us/sample - loss: 4247121658.4716 - val_loss: 4411658814.1496\n",
      "Epoch 8/120\n",
      "13209/13209 [==============================] - 1s 60us/sample - loss: 4190563448.9648 - val_loss: 4380743416.5498\n",
      "Epoch 9/120\n",
      "13209/13209 [==============================] - 1s 61us/sample - loss: 4152770553.4784 - val_loss: 4361636115.5313\n",
      "Epoch 10/120\n",
      "13209/13209 [==============================] - 1s 60us/sample - loss: 4111718736.4639 - val_loss: 4257473083.0203\n",
      "Epoch 11/120\n",
      "13209/13209 [==============================] - 1s 60us/sample - loss: 4073505108.6405 - val_loss: 4312295898.1580\n",
      "Epoch 12/120\n",
      "13209/13209 [==============================] - 1s 63us/sample - loss: 4038943422.7548 - val_loss: 4250698479.3364\n",
      "Epoch 13/120\n",
      "13209/13209 [==============================] - 1s 62us/sample - loss: 3988819656.2998 - val_loss: 4125980223.7675\n",
      "Epoch 14/120\n",
      "13209/13209 [==============================] - 1s 62us/sample - loss: 3955376661.4254 - val_loss: 4104954092.8659\n",
      "Epoch 15/120\n",
      "13209/13209 [==============================] - 1s 62us/sample - loss: 3909521773.5495 - val_loss: 4040575048.1090\n",
      "Epoch 16/120\n",
      "13209/13209 [==============================] - 1s 61us/sample - loss: 3871218605.2734 - val_loss: 3987818198.8544\n",
      "Epoch 17/120\n",
      "13209/13209 [==============================] - 1s 63us/sample - loss: 3848100076.9245 - val_loss: 3978148542.5855\n",
      "Epoch 18/120\n",
      "13209/13209 [==============================] - 1s 63us/sample - loss: 3809889535.9564 - val_loss: 3906945121.5695\n",
      "Epoch 19/120\n",
      "13209/13209 [==============================] - 1s 65us/sample - loss: 3785292295.9994 - val_loss: 3850035449.2764\n",
      "Epoch 20/120\n",
      "13209/13209 [==============================] - 1s 65us/sample - loss: 3758817629.2843 - val_loss: 3838372783.0796\n",
      "Epoch 21/120\n",
      "13209/13209 [==============================] - 1s 69us/sample - loss: 3726956003.7623 - val_loss: 3797244935.1450\n",
      "Epoch 22/120\n",
      "13209/13209 [==============================] - 1s 72us/sample - loss: 3679803498.5213 - val_loss: 3760552835.7542\n",
      "Epoch 23/120\n",
      "13209/13209 [==============================] - 1s 80us/sample - loss: 3661905015.9715 - val_loss: 3797278393.4120\n",
      "Epoch 24/120\n",
      "13209/13209 [==============================] - 1s 71us/sample - loss: 3647729393.2900 - val_loss: 3720477675.8874\n",
      "Epoch 25/120\n",
      "13209/13209 [==============================] - 1s 63us/sample - loss: 3612830481.6219 - val_loss: 3669616322.0539\n",
      "Epoch 26/120\n",
      "13209/13209 [==============================] - 1s 63us/sample - loss: 3565376129.0805 - val_loss: 3713514960.8768\n",
      "Epoch 27/120\n",
      "13209/13209 [==============================] - 1s 62us/sample - loss: 3542893641.9036 - val_loss: 3830260212.9603\n",
      "Epoch 28/120\n",
      "13209/13209 [==============================] - 1s 61us/sample - loss: 3517617806.7003 - val_loss: 3618501839.7530\n",
      "Epoch 29/120\n",
      "13209/13209 [==============================] - 1s 77us/sample - loss: 3509654101.5950 - val_loss: 3589130566.0793\n",
      "Epoch 30/120\n",
      "13209/13209 [==============================] - 1s 70us/sample - loss: 3472852884.2577 - val_loss: 3546302422.1665\n",
      "Epoch 31/120\n",
      "13209/13209 [==============================] - 1s 83us/sample - loss: 3444669555.8846 - val_loss: 3605209847.4114\n",
      "Epoch 32/120\n",
      "13209/13209 [==============================] - 1s 97us/sample - loss: 3438692570.0138 - val_loss: 3615192462.0381\n",
      "Epoch 33/120\n",
      "13209/13209 [==============================] - 1s 76us/sample - loss: 3444002935.2593 - val_loss: 3496204753.4411\n",
      "Epoch 34/120\n",
      "13209/13209 [==============================] - 1s 76us/sample - loss: 3414919896.6620 - val_loss: 3490897958.0939\n",
      "Epoch 35/120\n",
      "13209/13209 [==============================] - 1s 72us/sample - loss: 3402385870.1285 - val_loss: 3484870218.3106\n",
      "Epoch 36/120\n",
      "13209/13209 [==============================] - 1s 81us/sample - loss: 3381651001.5801 - val_loss: 3483949564.5898\n",
      "Epoch 37/120\n",
      "13209/13209 [==============================] - 1s 71us/sample - loss: 3372001318.7808 - val_loss: 3521907354.7987\n",
      "Epoch 38/120\n",
      "13209/13209 [==============================] - 1s 69us/sample - loss: 3340632880.9024 - val_loss: 3466249544.3778\n",
      "Epoch 39/120\n",
      "13209/13209 [==============================] - 1s 68us/sample - loss: 3329429530.9247 - val_loss: 3499234413.6506\n",
      "Epoch 40/120\n",
      "13209/13209 [==============================] - 1s 70us/sample - loss: 3301967898.1543 - val_loss: 3448473442.5195\n",
      "Epoch 41/120\n",
      "13209/13209 [==============================] - 1s 73us/sample - loss: 3296283946.2258 - val_loss: 3431126456.5425\n",
      "Epoch 42/120\n",
      "13209/13209 [==============================] - 1s 73us/sample - loss: 3294842955.0470 - val_loss: 3505652076.1768\n",
      "Epoch 43/120\n",
      "13209/13209 [==============================] - 1s 70us/sample - loss: 3284254781.2867 - val_loss: 3501277785.8093\n",
      "Epoch 44/120\n",
      "13209/13209 [==============================] - 1s 72us/sample - loss: 3249929018.8302 - val_loss: 3441700204.1054\n",
      "Epoch 45/120\n",
      "13209/13209 [==============================] - 1s 75us/sample - loss: 3247410986.3953 - val_loss: 3383043373.1468\n",
      "Epoch 46/120\n",
      "13209/13209 [==============================] - 1s 72us/sample - loss: 3263510562.9653 - val_loss: 3375305949.6748\n",
      "Epoch 47/120\n",
      "13209/13209 [==============================] - 1s 72us/sample - loss: 3224185734.3084 - val_loss: 3486970370.2888\n",
      "Epoch 48/120\n",
      "13209/13209 [==============================] - 1s 72us/sample - loss: 3231689810.6976 - val_loss: 3385263101.5562\n",
      "Epoch 49/120\n",
      "13209/13209 [==============================] - 1s 66us/sample - loss: 3209175442.8066 - val_loss: 3424502077.3358\n",
      "Epoch 50/120\n",
      "13209/13209 [==============================] - 1s 66us/sample - loss: 3213052724.8706 - val_loss: 3431125763.4684\n",
      "Epoch 51/120\n",
      "13209/13209 [==============================] - 1s 66us/sample - loss: 3192619128.8776 - val_loss: 3401733158.4378\n",
      "Epoch 52/120\n",
      "13209/13209 [==============================] - 1s 67us/sample - loss: 3195015267.3262 - val_loss: 3449580103.4478\n",
      "Epoch 53/120\n",
      "13209/13209 [==============================] - 1s 65us/sample - loss: 3191309730.3475 - val_loss: 3333914310.5104\n",
      "Epoch 54/120\n",
      "13209/13209 [==============================] - 1s 66us/sample - loss: 3191917450.0731 - val_loss: 3440648498.2670\n",
      "Epoch 55/120\n",
      "13209/13209 [==============================] - 1s 66us/sample - loss: 3164595436.7162 - val_loss: 3337332104.6903\n",
      "Epoch 56/120\n",
      "13209/13209 [==============================] - 1s 64us/sample - loss: 3155425514.1821 - val_loss: 3371988649.5574\n",
      "Epoch 57/120\n",
      "13209/13209 [==============================] - 1s 65us/sample - loss: 3133790244.9445 - val_loss: 3344996941.4326\n",
      "Epoch 58/120\n",
      "13209/13209 [==============================] - 1s 65us/sample - loss: 3146119015.0837 - val_loss: 3331395831.6827\n",
      "Epoch 59/120\n",
      "13209/13209 [==============================] - 1s 64us/sample - loss: 3130938835.5261 - val_loss: 3472150524.1150\n",
      "Epoch 60/120\n",
      "13209/13209 [==============================] - 1s 66us/sample - loss: 3120411082.3832 - val_loss: 3357091417.8432\n",
      "Epoch 61/120\n",
      "13209/13209 [==============================] - 1s 65us/sample - loss: 3131418763.4346 - val_loss: 3332852361.9788\n",
      "Epoch 62/120\n",
      "13209/13209 [==============================] - 1s 66us/sample - loss: 3110173466.7696 - val_loss: 3303871038.4499\n",
      "Epoch 63/120\n",
      "13209/13209 [==============================] - 1s 66us/sample - loss: 3123467005.5823 - val_loss: 3308376974.9295\n",
      "Epoch 64/120\n",
      "13209/13209 [==============================] - 1s 67us/sample - loss: 3097687357.6307 - val_loss: 3299087606.0551\n",
      "Epoch 65/120\n"
     ]
    },
    {
     "name": "stdout",
     "output_type": "stream",
     "text": [
      "13209/13209 [==============================] - 1s 65us/sample - loss: 3078655868.8845 - val_loss: 3303653674.4099\n",
      "Epoch 66/120\n",
      "13209/13209 [==============================] - 1s 64us/sample - loss: 3099127522.8417 - val_loss: 3334706139.1293\n",
      "Epoch 67/120\n",
      "13209/13209 [==============================] - 1s 65us/sample - loss: 3097171083.9095 - val_loss: 3281686664.5207\n",
      "Epoch 68/120\n",
      "13209/13209 [==============================] - 1s 64us/sample - loss: 3073616982.2491 - val_loss: 3312653229.8395\n",
      "Epoch 69/120\n",
      "13209/13209 [==============================] - 1s 70us/sample - loss: 3048812818.1064 - val_loss: 3254438180.0448\n",
      "Epoch 70/120\n",
      "13209/13209 [==============================] - 1s 66us/sample - loss: 3047101113.9484 - val_loss: 3406137972.8078\n",
      "Epoch 71/120\n",
      "13209/13209 [==============================] - 1s 69us/sample - loss: 3041895316.6380 - val_loss: 3263644249.0148\n",
      "Epoch 72/120\n",
      "13209/13209 [==============================] - 1s 70us/sample - loss: 3025007614.2218 - val_loss: 3243536354.7078\n",
      "Epoch 73/120\n",
      "13209/13209 [==============================] - 1s 66us/sample - loss: 3028820884.9990 - val_loss: 3386878143.4284\n",
      "Epoch 74/120\n",
      "13209/13209 [==============================] - 1s 68us/sample - loss: 3027309278.4423 - val_loss: 3225846278.8544\n",
      "Epoch 75/120\n",
      "13209/13209 [==============================] - 1s 66us/sample - loss: 3014124840.8982 - val_loss: 3265825657.2159\n",
      "Epoch 76/120\n",
      "13209/13209 [==============================] - 1s 66us/sample - loss: 3019366384.1369 - val_loss: 3269623579.6016\n",
      "Epoch 77/120\n",
      "13209/13209 [==============================] - 1s 66us/sample - loss: 2992711795.1603 - val_loss: 3185306099.3037\n",
      "Epoch 78/120\n",
      "13209/13209 [==============================] - 1s 66us/sample - loss: 2997798611.0561 - val_loss: 3302908041.6639\n",
      "Epoch 79/120\n",
      "13209/13209 [==============================] - 1s 65us/sample - loss: 2992464395.3571 - val_loss: 3274550673.0245\n",
      "Epoch 80/120\n",
      "13209/13209 [==============================] - 1s 65us/sample - loss: 2976503051.6527 - val_loss: 3186790327.9540\n",
      "Epoch 81/120\n",
      "13209/13209 [==============================] - 1s 64us/sample - loss: 2961019507.4704 - val_loss: 3283670205.1759\n",
      "Epoch 82/120\n",
      "13209/13209 [==============================] - 1s 64us/sample - loss: 2989433789.5435 - val_loss: 3159969743.3557\n",
      "Epoch 83/120\n",
      "13209/13209 [==============================] - 1s 65us/sample - loss: 2963819946.8992 - val_loss: 3212405785.5719\n",
      "Epoch 84/120\n",
      "13209/13209 [==============================] - 1s 65us/sample - loss: 2946034317.1595 - val_loss: 3238163502.4208\n",
      "Epoch 85/120\n",
      "13209/13209 [==============================] - 1s 62us/sample - loss: 2936049994.3469 - val_loss: 3281246841.2861\n",
      "Epoch 86/120\n",
      "13209/13209 [==============================] - 1s 64us/sample - loss: 2942010647.3586 - val_loss: 3140385250.7757\n",
      "Epoch 87/120\n",
      "13209/13209 [==============================] - 1s 64us/sample - loss: 2922983365.6882 - val_loss: 3176077044.1998\n",
      "Epoch 88/120\n",
      "13209/13209 [==============================] - 1s 65us/sample - loss: 2933297741.8718 - val_loss: 3325670429.4762\n",
      "Epoch 89/120\n",
      "13209/13209 [==============================] - 1s 66us/sample - loss: 2923549949.2843 - val_loss: 3162429283.9770- loss: 2873425\n",
      "Epoch 90/120\n",
      "13209/13209 [==============================] - 1s 67us/sample - loss: 2935600162.6043 - val_loss: 3225574816.1841\n",
      "Epoch 91/120\n",
      "13209/13209 [==============================] - 1s 66us/sample - loss: 2915532169.1865 - val_loss: 3271217008.2470\n",
      "Epoch 92/120\n",
      "13209/13209 [==============================] - 1s 65us/sample - loss: 2894699910.1728 - val_loss: 3161319417.2861\n",
      "Epoch 93/120\n",
      "13209/13209 [==============================] - 1s 64us/sample - loss: 2893823329.0441 - val_loss: 3141084651.0881\n",
      "Epoch 94/120\n",
      "13209/13209 [==============================] - 1s 67us/sample - loss: 2875865726.4883 - val_loss: 3273665238.6606\n",
      "Epoch 95/120\n",
      "13209/13209 [==============================] - 1s 66us/sample - loss: 2882301142.4332 - val_loss: 3648923591.1886\n",
      "Epoch 96/120\n",
      "13209/13209 [==============================] - 1s 65us/sample - loss: 2881506599.7692 - val_loss: 3163949918.0963\n",
      "Epoch 97/120\n",
      "13209/13209 [==============================] - 1s 65us/sample - loss: 2882067630.8117 - val_loss: 3252571421.3697\n",
      "Epoch 98/120\n",
      "13209/13209 [==============================] - 1s 65us/sample - loss: 2869063738.3166 - val_loss: 3147197843.0082\n",
      "Epoch 99/120\n",
      "13209/13209 [==============================] - 1s 65us/sample - loss: 2848152561.8763 - val_loss: 3421668767.4672\n",
      "Epoch 100/120\n",
      "13209/13209 [==============================] - 1s 65us/sample - loss: 2854268344.0297 - val_loss: 3204693793.2328\n",
      "Epoch 101/120\n",
      "13209/13209 [==============================] - 1s 65us/sample - loss: 2865386241.7685 - val_loss: 3380773476.4953\n",
      "Epoch 102/120\n",
      "13209/13209 [==============================] - 1s 66us/sample - loss: 2846348983.6009 - val_loss: 3114198698.7151\n",
      "Epoch 103/120\n",
      "13209/13209 [==============================] - 1s 65us/sample - loss: 2831554155.1027 - val_loss: 3197626694.2682\n",
      "Epoch 104/120\n",
      "13209/13209 [==============================] - 1s 63us/sample - loss: 2834921930.1652 - val_loss: 3117440316.0085\n",
      "Epoch 105/120\n",
      "13209/13209 [==============================] - 1s 66us/sample - loss: 2847542153.8963 - val_loss: 3198180905.1771\n",
      "Epoch 106/120\n",
      "13209/13209 [==============================] - 1s 64us/sample - loss: 2835124461.9856 - val_loss: 3318167502.5516\n",
      "Epoch 107/120\n",
      "13209/13209 [==============================] - 1s 64us/sample - loss: 2818709824.7558 - val_loss: 3147520601.2038\n",
      "Epoch 108/120\n",
      "13209/13209 [==============================] - 1s 64us/sample - loss: 2802248722.9301 - val_loss: 3089749732.8053\n",
      "Epoch 109/120\n",
      "13209/13209 [==============================] - 1s 64us/sample - loss: 2805518578.7969 - val_loss: 3291897328.8671\n",
      "Epoch 110/120\n",
      "13209/13209 [==============================] - 1s 64us/sample - loss: 2808875954.2881 - val_loss: 3263469689.2861\n",
      "Epoch 111/120\n",
      "13209/13209 [==============================] - 1s 64us/sample - loss: 2798725116.8942 - val_loss: 3154157094.5589\n",
      "Epoch 112/120\n",
      "13209/13209 [==============================] - 1s 65us/sample - loss: 2799812662.1255 - val_loss: 3160856881.5259\n",
      "Epoch 113/120\n",
      "13209/13209 [==============================] - 1s 66us/sample - loss: 2791695906.0713 - val_loss: 3136446657.0754\n",
      "Epoch 114/120\n",
      "13209/13209 [==============================] - 1s 68us/sample - loss: 2781426573.1644 - val_loss: 3101225360.8235\n",
      "Epoch 115/120\n",
      "13209/13209 [==============================] - 1s 67us/sample - loss: 2766065704.7867 - val_loss: 3170990574.4015\n",
      "Epoch 116/120\n",
      "13209/13209 [==============================] - 1s 64us/sample - loss: 2768682548.9869 - val_loss: 3091452435.0179\n",
      "Epoch 117/120\n",
      "13209/13209 [==============================] - 1s 64us/sample - loss: 2766395462.8608 - val_loss: 3142375772.2531\n",
      "Epoch 118/120\n",
      "13209/13209 [==============================] - 1s 66us/sample - loss: 2756994274.7690 - val_loss: 3089711358.2222\n",
      "Epoch 119/120\n",
      "13209/13209 [==============================] - 1s 61us/sample - loss: 2765666535.5972 - val_loss: 3062733575.8571\n",
      "Epoch 120/120\n",
      "13209/13209 [==============================] - 1s 61us/sample - loss: 2738789560.1871 - val_loss: 3102360869.7451\n"
     ]
    }
   ],
   "source": [
    "epochs_hist = model.fit(housing_prepared, y_train.values, epochs=120, batch_size=25,  verbose=1, validation_split=0.2)\n"
   ]
  },
  {
   "cell_type": "code",
   "execution_count": 137,
   "metadata": {
    "ExecuteTime": {
     "end_time": "2020-04-25T17:14:17.273718Z",
     "start_time": "2020-04-25T17:14:17.269703Z"
    }
   },
   "outputs": [
    {
     "data": {
      "text/plain": [
       "55462.52258465892"
      ]
     },
     "execution_count": 137,
     "metadata": {},
     "output_type": "execute_result"
    }
   ],
   "source": [
    "np.sqrt(3076091411.4538)"
   ]
  },
  {
   "cell_type": "code",
   "execution_count": 138,
   "metadata": {
    "ExecuteTime": {
     "end_time": "2020-04-25T17:14:17.455789Z",
     "start_time": "2020-04-25T17:14:17.275688Z"
    }
   },
   "outputs": [
    {
     "data": {
      "text/plain": [
       "<matplotlib.legend.Legend at 0x14c86f390>"
      ]
     },
     "execution_count": 138,
     "metadata": {},
     "output_type": "execute_result"
    },
    {
     "data": {
      "image/png": "[encoded data removed]",
      "text/plain": [
       "<Figure size 432x288 with 1 Axes>"
      ]
     },
     "metadata": {
      "needs_background": "light"
     },
     "output_type": "display_data"
    }
   ],
   "source": [
    "plt.plot(epochs_hist.history['loss'])\n",
    "plt.plot(epochs_hist.history['val_loss'])\n",
    "\n",
    "plt.title('Model Loss Progression During Training/Validation')\n",
    "plt.ylabel('Training and Validation Losses')\n",
    "plt.xlabel('Epoch Number')\n",
    "plt.legend(['Training Loss', 'Validation Loss'])\n"
   ]
  },
  {
   "cell_type": "code",
   "execution_count": 139,
   "metadata": {
    "ExecuteTime": {
     "end_time": "2020-04-25T17:14:17.461109Z",
     "start_time": "2020-04-25T17:14:17.457458Z"
    }
   },
   "outputs": [
    {
     "data": {
      "text/plain": [
       "Index(['longitude', 'latitude', 'housing_median_age', 'total_rooms',\n",
       "       'total_bedrooms', 'population', 'households', 'median_income',\n",
       "       'ocean_proximity'],\n",
       "      dtype='object')"
      ]
     },
     "execution_count": 139,
     "metadata": {},
     "output_type": "execute_result"
    }
   ],
   "source": [
    "X_test.columns"
   ]
  },
  {
   "cell_type": "code",
   "execution_count": null,
   "metadata": {},
   "outputs": [],
   "source": []
  },
  {
   "cell_type": "code",
   "execution_count": 140,
   "metadata": {
    "ExecuteTime": {
     "end_time": "2020-04-25T17:14:17.472148Z",
     "start_time": "2020-04-25T17:14:17.464126Z"
    }
   },
   "outputs": [],
   "source": [
    "X_test_prepared = full_pipeline.transform(X_test)"
   ]
  },
  {
   "cell_type": "code",
   "execution_count": 141,
   "metadata": {
    "ExecuteTime": {
     "end_time": "2020-04-25T17:14:17.477133Z",
     "start_time": "2020-04-25T17:14:17.473512Z"
    }
   },
   "outputs": [
    {
     "data": {
      "text/plain": [
       "array([[ 0.54137892, -0.56931183, -0.44991252, ...,  0.        ,\n",
       "         0.        ,  0.        ],\n",
       "       [ 0.70611086, -0.87352832,  0.10636711, ...,  0.        ,\n",
       "         0.        ,  1.        ],\n",
       "       [-1.125908  ,  0.460344  ,  0.34477267, ...,  0.        ,\n",
       "         0.        ,  0.        ],\n",
       "       ...,\n",
       "       [-1.47533939,  1.09217826,  1.85467452, ...,  0.        ,\n",
       "         1.        ,  0.        ],\n",
       "       [-0.82639538,  1.0172942 , -1.00619215, ...,  0.        ,\n",
       "         0.        ,  0.        ],\n",
       "       [-0.84137101,  1.07345724,  0.34477267, ...,  0.        ,\n",
       "         0.        ,  0.        ]])"
      ]
     },
     "execution_count": 141,
     "metadata": {},
     "output_type": "execute_result"
    }
   ],
   "source": [
    "X_test_prepared"
   ]
  },
  {
   "cell_type": "code",
   "execution_count": 142,
   "metadata": {
    "ExecuteTime": {
     "end_time": "2020-04-25T17:14:17.656897Z",
     "start_time": "2020-04-25T17:14:17.478593Z"
    }
   },
   "outputs": [],
   "source": [
    "predictions = model.predict(X_test_prepared)"
   ]
  },
  {
   "cell_type": "code",
   "execution_count": 143,
   "metadata": {
    "ExecuteTime": {
     "end_time": "2020-04-25T17:14:17.662201Z",
     "start_time": "2020-04-25T17:14:17.658528Z"
    }
   },
   "outputs": [
    {
     "data": {
      "text/plain": [
       "(4128, 1)"
      ]
     },
     "execution_count": 143,
     "metadata": {},
     "output_type": "execute_result"
    }
   ],
   "source": [
    "predictions.shape"
   ]
  },
  {
   "cell_type": "code",
   "execution_count": 144,
   "metadata": {
    "ExecuteTime": {
     "end_time": "2020-04-25T17:14:17.668586Z",
     "start_time": "2020-04-25T17:14:17.664417Z"
    }
   },
   "outputs": [
    {
     "data": {
      "text/plain": [
       "(4128,)"
      ]
     },
     "execution_count": 144,
     "metadata": {},
     "output_type": "execute_result"
    }
   ],
   "source": [
    "y_test.shape"
   ]
  },
  {
   "cell_type": "code",
   "execution_count": 145,
   "metadata": {
    "ExecuteTime": {
     "end_time": "2020-04-25T17:14:17.673090Z",
     "start_time": "2020-04-25T17:14:17.669831Z"
    }
   },
   "outputs": [],
   "source": [
    "rmse = np.sqrt(mean_squared_error(predictions, y_test))"
   ]
  },
  {
   "cell_type": "code",
   "execution_count": 146,
   "metadata": {
    "ExecuteTime": {
     "end_time": "2020-04-25T17:14:17.678946Z",
     "start_time": "2020-04-25T17:14:17.675183Z"
    }
   },
   "outputs": [
    {
     "data": {
      "text/plain": [
       "54972.51991759191"
      ]
     },
     "execution_count": 146,
     "metadata": {},
     "output_type": "execute_result"
    }
   ],
   "source": [
    "rmse"
   ]
  },
  {
   "cell_type": "markdown",
   "metadata": {},
   "source": [
    "without the combined column\n",
    "\n",
    "rmse: 53662.66651125556\n",
    "\n",
    "with the combined column transformer:\n",
    "\n",
    "rmse: 54972.51991759191\n"
   ]
  },
  {
   "cell_type": "code",
   "execution_count": 147,
   "metadata": {
    "ExecuteTime": {
     "end_time": "2020-04-25T17:14:17.686184Z",
     "start_time": "2020-04-25T17:14:17.680519Z"
    }
   },
   "outputs": [
    {
     "data": {
      "text/plain": [
       "array([[52621.11963891],\n",
       "       [57227.3855783 ]])"
      ]
     },
     "execution_count": 147,
     "metadata": {},
     "output_type": "execute_result"
    }
   ],
   "source": [
    "from scipy import stats\n",
    "\n",
    "confidence = 0.95\n",
    "squared_errors = (predictions - np.expand_dims(y_test, 1)) ** 2\n",
    "np.sqrt(stats.t.interval(confidence, len(squared_errors) - 1,\n",
    "                         loc=squared_errors.mean(),\n",
    "                         scale=stats.sem(squared_errors)))"
   ]
  },
  {
   "cell_type": "code",
   "execution_count": null,
   "metadata": {},
   "outputs": [],
   "source": []
  }
 ],
 "metadata": {
  "kernelspec": {
   "display_name": "Python 3",
   "language": "python",
   "name": "python3"
  },
  "language_info": {
   "codemirror_mode": {
    "name": "ipython",
    "version": 3
   },
   "file_extension": ".py",
   "mimetype": "text/x-python",
   "name": "python",
   "nbconvert_exporter": "python",
   "pygments_lexer": "ipython3",
   "version": "3.7.6"
  },
  "toc": {
   "base_numbering": 1,
   "nav_menu": {},
   "number_sections": true,
   "sideBar": true,
   "skip_h1_title": false,
   "title_cell": "Table of Contents",
   "title_sidebar": "Contents",
   "toc_cell": false,
   "toc_position": {},
   "toc_section_display": true,
   "toc_window_display": false
  }
 },
 "nbformat": 4,
 "nbformat_minor": 2
}
